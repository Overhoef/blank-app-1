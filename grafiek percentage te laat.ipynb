{
 "cells": [
  {
   "cell_type": "code",
   "execution_count": 2,
   "id": "eec9698c-d3d8-4e79-b3a7-a14e8d451e0b",
   "metadata": {},
   "outputs": [],
   "source": [
    "import numpy as np\n",
    "import matplotlib.pyplot as plt\n",
    "import pandas as pd\n",
    "import seaborn as sns\n",
    "import streamlit as st\n",
    "import geopandas as gpd\n",
    "import plotly.express as px\n",
    "import folium"
   ]
  },
  {
   "cell_type": "code",
   "execution_count": 5,
   "id": "38c49cb1-24d5-4c1d-9d43-3295cb3dddfe",
   "metadata": {},
   "outputs": [
    {
     "data": {
      "text/html": [
       "<div>\n",
       "<style scoped>\n",
       "    .dataframe tbody tr th:only-of-type {\n",
       "        vertical-align: middle;\n",
       "    }\n",
       "\n",
       "    .dataframe tbody tr th {\n",
       "        vertical-align: top;\n",
       "    }\n",
       "\n",
       "    .dataframe thead th {\n",
       "        text-align: right;\n",
       "    }\n",
       "</style>\n",
       "<table border=\"1\" class=\"dataframe\">\n",
       "  <thead>\n",
       "    <tr style=\"text-align: right;\">\n",
       "      <th></th>\n",
       "      <th>Time (secs)</th>\n",
       "      <th>[3d Latitude]</th>\n",
       "      <th>[3d Longitude]</th>\n",
       "      <th>[3d Altitude M]</th>\n",
       "      <th>[3d Altitude Ft]</th>\n",
       "      <th>[3d Heading]</th>\n",
       "      <th>TRUE AIRSPEED (derived)</th>\n",
       "    </tr>\n",
       "  </thead>\n",
       "  <tbody>\n",
       "    <tr>\n",
       "      <th>0</th>\n",
       "      <td>1.00</td>\n",
       "      <td>52.303928</td>\n",
       "      <td>4.765694</td>\n",
       "      <td>-1.2</td>\n",
       "      <td>-4.0</td>\n",
       "      <td>122.6</td>\n",
       "      <td>47.3</td>\n",
       "    </tr>\n",
       "    <tr>\n",
       "      <th>1</th>\n",
       "      <td>1.25</td>\n",
       "      <td>52.303928</td>\n",
       "      <td>4.765694</td>\n",
       "      <td>-1.2</td>\n",
       "      <td>-4.0</td>\n",
       "      <td>122.6</td>\n",
       "      <td>NaN</td>\n",
       "    </tr>\n",
       "    <tr>\n",
       "      <th>2</th>\n",
       "      <td>1.50</td>\n",
       "      <td>52.303928</td>\n",
       "      <td>4.765694</td>\n",
       "      <td>-1.2</td>\n",
       "      <td>-4.0</td>\n",
       "      <td>122.6</td>\n",
       "      <td>NaN</td>\n",
       "    </tr>\n",
       "    <tr>\n",
       "      <th>3</th>\n",
       "      <td>1.75</td>\n",
       "      <td>52.303928</td>\n",
       "      <td>4.765694</td>\n",
       "      <td>-1.2</td>\n",
       "      <td>-4.0</td>\n",
       "      <td>122.6</td>\n",
       "      <td>NaN</td>\n",
       "    </tr>\n",
       "    <tr>\n",
       "      <th>4</th>\n",
       "      <td>2.00</td>\n",
       "      <td>52.303928</td>\n",
       "      <td>4.765694</td>\n",
       "      <td>-1.2</td>\n",
       "      <td>-4.0</td>\n",
       "      <td>122.6</td>\n",
       "      <td>47.3</td>\n",
       "    </tr>\n",
       "  </tbody>\n",
       "</table>\n",
       "</div>"
      ],
      "text/plain": [
       "   Time (secs)  [3d Latitude]  [3d Longitude]  [3d Altitude M]  \\\n",
       "0         1.00      52.303928        4.765694             -1.2   \n",
       "1         1.25      52.303928        4.765694             -1.2   \n",
       "2         1.50      52.303928        4.765694             -1.2   \n",
       "3         1.75      52.303928        4.765694             -1.2   \n",
       "4         2.00      52.303928        4.765694             -1.2   \n",
       "\n",
       "   [3d Altitude Ft]  [3d Heading] TRUE AIRSPEED (derived)  \n",
       "0              -4.0         122.6                    47.3  \n",
       "1              -4.0         122.6                     NaN  \n",
       "2              -4.0         122.6                     NaN  \n",
       "3              -4.0         122.6                     NaN  \n",
       "4              -4.0         122.6                    47.3  "
      ]
     },
     "execution_count": 5,
     "metadata": {},
     "output_type": "execute_result"
    }
   ],
   "source": [
    "f1s1.head()"
   ]
  },
  {
   "cell_type": "code",
   "execution_count": 57,
   "id": "75b125a9-1e30-42f3-bb03-cfb7f5e96906",
   "metadata": {},
   "outputs": [
    {
     "data": {
      "image/png": "[encoded data removed]",
      "text/plain": [
       "<Figure size 640x480 with 1 Axes>"
      ]
     },
     "metadata": {},
     "output_type": "display_data"
    },
    {
     "name": "stdout",
     "output_type": "stream",
     "text": [
      "34.64% van de vluchten is te laat\n"
     ]
    }
   ],
   "source": [
    "# importeer libraries\n",
    "import numpy as np\n",
    "import matplotlib.pyplot as plt\n",
    "import pandas as pd\n",
    "\n",
    "# laad dataframe schedule_airport.csv in als schedule\n",
    "schedule = pd.read_csv('schedule_airport.csv')\n",
    "\n",
    "# maakt dataframe verschil (vs) aan met de geplande aankomst tijd en de werkelijke aankomst tijd\n",
    "vs = pd.DataFrame({'gepland':schedule['STA_STD_ltc'],'aankomst': schedule['ATA_ATD_ltc']})\n",
    "\n",
    "# verandert de values in vs naar het juiste format\n",
    "fmt = '%H:%M:%S'\n",
    "vs['gepland'] = pd.to_datetime(vs['gepland'], format=fmt)\n",
    "vs['aankomst'] = pd.to_datetime(vs['aankomst'], format=fmt)\n",
    "\n",
    "# berekent het verschil tussen de geplande aankost tijd en de daadwerkelijke aankomst tijd en zet die waardes in de nieuwe kolom verschil\n",
    "vs['verschil'] = np.where(vs['gepland'] > vs['aankomst'], \n",
    "                        vs['gepland'] - vs['aankomst'], \n",
    "                        vs['aankomst'] - vs['gepland'])\n",
    "\n",
    "# maakt een nieuwe kolom 'op tijd?' waarin staat of de vlucht op tijd of te laat aan is gekomen\n",
    "vs['op tijd?'] = np.where(vs['gepland'] > vs['aankomst'], 'op tijd', 'te laat')\n",
    "\n",
    "# telt het aantal vluchten dat op tijd is en dat te laat is\n",
    "counts = vs['op tijd?'].value_counts()\n",
    "\n",
    "# maakt een bar chart die het aantal vluchten wat optijd is en het aantal vluchten wat te laat is tegen elkaar uit\n",
    "plt.bar(counts.index, counts, color=['green', 'red'])\n",
    "plt.xlabel('Vluchtstatus')\n",
    "plt.ylabel('Aantal vluchten')\n",
    "plt.title('Verdeling op tijd/te laat')\n",
    "\n",
    "# maakt tick labels voor de leesbaarheid\n",
    "plt.xticks([1, 0], ['Te laat', 'Op tijd'], rotation=0)\n",
    "\n",
    "# geeft de grafiek weer\n",
    "plt.tight_layout()\n",
    "plt.show()\n",
    "\n",
    "# berekent het percentage van vluchten die te laat aankomen\n",
    "percentage_late = (counts[1] / len(vs)) * 100\n",
    "print(f\"{percentage_late:.2f}% van de vluchten is te laat\")"
   ]
  },
  {
   "cell_type": "code",
   "execution_count": 36,
   "id": "7e3f0051-5a48-40ac-95d5-66db376f2c02",
   "metadata": {},
   "outputs": [],
   "source": [
    "# importeer libraries\n",
    "import numpy as np\n",
    "import matplotlib.pyplot as plt\n",
    "import pandas as pd"
   ]
  },
  {
   "cell_type": "code",
   "execution_count": 37,
   "id": "6172593e-1aeb-4e52-9d19-92cef885d99d",
   "metadata": {},
   "outputs": [],
   "source": [
    "# laad dataframe schedule_airport.csv in als schedule\n",
    "schedule = pd.read_csv('schedule_airport.csv')"
   ]
  },
  {
   "cell_type": "code",
   "execution_count": 38,
   "id": "c83f6380-b782-48e7-9633-df2bf93abc3f",
   "metadata": {},
   "outputs": [],
   "source": [
    "# maakt dataframe verschil (vs) aan met de geplande aankomst tijd en de werkelijke aankomst tijd\n",
    "vs = pd.DataFrame({'gepland':schedule['STA_STD_ltc'],'aankomst': schedule['ATA_ATD_ltc']})"
   ]
  },
  {
   "cell_type": "code",
   "execution_count": 39,
   "id": "871c1530-8b0e-4130-8c5b-2bb1d06d3d9d",
   "metadata": {},
   "outputs": [],
   "source": [
    "# verandert de values in vs naar het juiste format\n",
    "fmt = '%H:%M:%S'\n",
    "vs['gepland'] = pd.to_datetime(vs['gepland'], format=fmt)\n",
    "vs['aankomst'] = pd.to_datetime(vs['aankomst'], format=fmt)"
   ]
  },
  {
   "cell_type": "code",
   "execution_count": 40,
   "id": "844fd70a-5f29-4e6e-8252-b8c1cba76437",
   "metadata": {},
   "outputs": [],
   "source": [
    "# berekent het verschil tussen de geplande aankost tijd en de daadwerkelijke aankomst tijd en zet die waardes in de nieuwe kolom verschil\n",
    "vs['verschil'] = np.where(vs['gepland'] > vs['aankomst'], \n",
    "                        vs['gepland'] - vs['aankomst'], \n",
    "                        vs['aankomst'] - vs['gepland'])"
   ]
  },
  {
   "cell_type": "code",
   "execution_count": 52,
   "id": "9dc8607e-2a47-4853-8ea4-1733121a9f97",
   "metadata": {},
   "outputs": [],
   "source": [
    "# maakt een nieuwe kolom 'op tijd?' waarin staat of de vlucht op tijd of te laat aan is gekomen\n",
    "vs['op tijd?'] = np.where(vs['gepland'] > vs['aankomst'], 'op tijd', 'te laat')"
   ]
  },
  {
   "cell_type": "code",
   "execution_count": 53,
   "id": "2269b7ea-0c63-4670-9e56-d2d47161eca7",
   "metadata": {},
   "outputs": [],
   "source": [
    "# telt het aantal vluchten dat op tijd is en dat te laat is\n",
    "counts = vs['op tijd?'].value_counts()"
   ]
  },
  {
   "cell_type": "code",
   "execution_count": 55,
   "id": "e51328af-9cea-4fef-b366-dcc49e307aaf",
   "metadata": {},
   "outputs": [
    {
     "data": {
      "image/png": "[encoded data removed]",
      "text/plain": [
       "<Figure size 640x480 with 1 Axes>"
      ]
     },
     "metadata": {},
     "output_type": "display_data"
    }
   ],
   "source": [
    "# maakt een bar chart die het aantal vluchten wat optijd is en het aantal vluchten wat te laat is tegen elkaar uit\n",
    "plt.bar(counts.index, counts, color=['green', 'red'])\n",
    "plt.xlabel('Vluchtstatus')\n",
    "plt.ylabel('Aantal vluchten')\n",
    "plt.title('Verdeling op tijd/te laat')\n",
    "\n",
    "# maakt tick labels voor de leesbaarheid\n",
    "plt.xticks([1, 0], ['Te laat', 'Op tijd'], rotation=0)\n",
    "\n",
    "# geeft de grafiek weer\n",
    "plt.tight_layout()\n",
    "plt.show()"
   ]
  },
  {
   "cell_type": "code",
   "execution_count": 46,
   "id": "394c0fcb-43ff-4266-8c96-b98d6aebe555",
   "metadata": {},
   "outputs": [
    {
     "name": "stdout",
     "output_type": "stream",
     "text": [
      "65.36% van de vluchten is te laat\n"
     ]
    }
   ],
   "source": [
    "# berekent het percentage van vluchten die te laat aankomen\n",
    "percentage_late = (counts[0] / len(vs)) * 100\n",
    "print(f\"{percentage_late:.2f}% van de vluchten is te laat\")"
   ]
  },
  {
   "cell_type": "code",
   "execution_count": null,
   "id": "9bbca445-163d-4f80-8800-a58c7b2687ea",
   "metadata": {},
   "outputs": [],
   "source": []
  }
 ],
 "metadata": {
  "kernelspec": {
   "display_name": "Python 3 (ipykernel)",
   "language": "python",
   "name": "python3"
  },
  "language_info": {
   "codemirror_mode": {
    "name": "ipython",
    "version": 3
   },
   "file_extension": ".py",
   "mimetype": "text/x-python",
   "name": "python",
   "nbconvert_exporter": "python",
   "pygments_lexer": "ipython3",
   "version": "3.8.19"
  }
 },
 "nbformat": 4,
 "nbformat_minor": 5
}
